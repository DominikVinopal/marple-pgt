{
 "cells": [
  {
   "cell_type": "code",
   "execution_count": 1,
   "metadata": {},
   "outputs": [
    {
     "name": "stdout",
     "output_type": "stream",
     "text": [
      "10 20 30 40 50 60 70 80 90 100 110 120 130 140 150 160 170 180 190 200 210 220 230 240 250 260 270 280 10 20 30 40 50 60 70 80 90 100 110 120 130 140 150 160 170 180 190 200 210 220 230 240 250 260 270 280 "
     ]
    }
   ],
   "source": [
    "import pandas as pd\n",
    "from Bio.SeqIO import parse\n",
    "from Bio.Seq import reverse_complement\n",
    "from Bio.pairwise2 import align\n",
    "from Bio.pairwise2 import format_alignment\n",
    "\n",
    "for n_pools in [3, 4]:\n",
    "    df = pd.read_excel(f'../data/primers/282_pairs_{n_pools}_pools.xlsx')\n",
    "    df[['gene', 'version']] = df['Name'].str.split('_v', expand=True).values\n",
    "    df['gene'] = [s.split('_')[0] if not s.startswith('P') else s for s in df.gene]\n",
    "    df['part'] = df.Name.str.extract('_(\\d)_v').fillna('-')\n",
    "    df.columns = ['_'.join(s.lower().split(' ')) for s in df]\n",
    "\n",
    "    ref = {\n",
    "        **{r.id: str(r.seq) for r in parse('../data/reference/crl75_392_genes.fa', 'fasta')},\n",
    "        **{r.id: str(r.seq) for r in parse('../data/reference/fungicide_genes.fa', 'fasta')},\n",
    "    }\n",
    "\n",
    "    i = 0\n",
    "    boundaries = []\n",
    "    for _, row in df.iterrows():\n",
    "        gene_seq = ref[row.gene].upper()\n",
    "        f = row.forward_sequence\n",
    "        r = row.reverse_sequence\n",
    "        length = len(gene_seq)\n",
    "        start = 0\n",
    "        end = length\n",
    "        for primer in [f, r, reverse_complement(f), reverse_complement(r)]:\n",
    "            alignment = align.localms(gene_seq, primer, 1, -1, -1, -1)[0]\n",
    "            if alignment.score > 15:\n",
    "                if alignment.start > (len(gene_seq) / 2):\n",
    "                    end = alignment.start + len(primer)\n",
    "                else:\n",
    "                    start = alignment.start\n",
    "        boundaries.append((start, end, length))\n",
    "        i += 1\n",
    "        if not i % 10:\n",
    "            print(i, end=' ')\n",
    "\n",
    "    amplicon_boundaries = pd.DataFrame(boundaries, columns=['start', 'end', 'gene_length'])\n",
    "    amplicon_boundaries['amplicon_length'] = amplicon_boundaries.end - amplicon_boundaries.start\n",
    "    amplicon_boundaries['amplicon_pct'] = 100 * amplicon_boundaries.amplicon_length / amplicon_boundaries.gene_length\n",
    "    df = df.join(amplicon_boundaries)\n",
    "    df.to_excel(f'../data/primers/{df.shape[0]}_pairs_{df.gene.nunique()}_genes_{df.pool.max()}_pools.xlsx', index=None)"
   ]
  },
  {
   "cell_type": "code",
   "execution_count": 2,
   "metadata": {},
   "outputs": [],
   "source": [
    "genes = sorted(set(df.gene))\n",
    "with open(f'../data/reference/{len(genes)}_genes.fa', 'w') as f:\n",
    "    for gene in sorted(df.gene):\n",
    "        f.write('>' + gene + '\\n' + ref[gene] + '\\n')\n",
    "gff = pd.concat([\n",
    "    pd.read_csv('../data/reference/crl75_392_genes.gff', comment='#', sep='\\t', header=None),\n",
    "    pd.read_csv('../data/reference/fungicide_genes.gff3', comment='#', sep='\\t', header=None),\n",
    "])\n",
    "gff[gff[0].isin(genes)].to_csv(f'../data/reference/{len(genes)}_genes.gff', sep='\\t', header=None, index=None)"
   ]
  },
  {
   "cell_type": "code",
   "execution_count": null,
   "metadata": {},
   "outputs": [],
   "source": []
  }
 ],
 "metadata": {
  "kernelspec": {
   "display_name": "Python 3.8.5 ('bio')",
   "language": "python",
   "name": "python3"
  },
  "language_info": {
   "codemirror_mode": {
    "name": "ipython",
    "version": 3
   },
   "file_extension": ".py",
   "mimetype": "text/x-python",
   "name": "python",
   "nbconvert_exporter": "python",
   "pygments_lexer": "ipython3",
   "version": "3.8.13"
  },
  "orig_nbformat": 4,
  "vscode": {
   "interpreter": {
    "hash": "cb121900eef4c2628aef9ca2784e6d2a1b4be0c89e4ac151916a8e0edb5a77f5"
   }
  }
 },
 "nbformat": 4,
 "nbformat_minor": 2
}
